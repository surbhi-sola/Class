{
  "nbformat": 4,
  "nbformat_minor": 0,
  "metadata": {
    "colab": {
      "name": "Copy of First0.ipynb",
      "provenance": [],
      "collapsed_sections": [],
      "authorship_tag": "ABX9TyORduikiDqkj0KYG61d700B",
      "include_colab_link": true
    },
    "kernelspec": {
      "name": "python3",
      "display_name": "Python 3"
    }
  },
  "cells": [
    {
      "cell_type": "markdown",
      "metadata": {
        "id": "view-in-github",
        "colab_type": "text"
      },
      "source": [
        "<a href=\"https://colab.research.google.com/github/surbhi-sola/Scilab6-Test-Toolbox/blob/master/Copy_of_First0.ipynb\" target=\"_parent\"><img src=\"https://colab.research.google.com/assets/colab-badge.svg\" alt=\"Open In Colab\"/></a>"
      ]
    },
    {
      "cell_type": "code",
      "metadata": {
        "colab": {
          "base_uri": "https://localhost:8080/"
        },
        "id": "vlhJmgtQGiKa",
        "outputId": "d57cc121-2e20-4077-dbfb-8a7a0092bf6d"
      },
      "source": [
        "x=5\r\n",
        "print(x)\r\n",
        "y=5\r\n",
        "z=x+y\r\n",
        "print(z)"
      ],
      "execution_count": null,
      "outputs": [
        {
          "output_type": "stream",
          "text": [
            "5\n",
            "10\n"
          ],
          "name": "stdout"
        }
      ]
    },
    {
      "cell_type": "code",
      "metadata": {
        "colab": {
          "base_uri": "https://localhost:8080/"
        },
        "id": "rDohH8WlG0wc",
        "outputId": "3fd352ed-2f9d-42b4-a0f9-784eb54c052c"
      },
      "source": [
        "import math as m\r\n",
        "import numpy as np\r\n",
        "x = np.array([[1,2],[3,4]])\r\n",
        "print(x)"
      ],
      "execution_count": null,
      "outputs": [
        {
          "output_type": "stream",
          "text": [
            "[[1 2]\n",
            " [3 4]]\n"
          ],
          "name": "stdout"
        }
      ]
    },
    {
      "cell_type": "code",
      "metadata": {
        "colab": {
          "base_uri": "https://localhost:8080/"
        },
        "id": "M3WJ103kG6X7",
        "outputId": "9426e659-5c7a-4ab9-e982-1600b88987f9"
      },
      "source": [
        "import math as m\r\n",
        "import numpy as np\r\n",
        "x = np.array([[1,2],[3,4]])\r\n",
        "y = np.array([[3,4],[4,5]])\r\n",
        "#z= np.dot(x,y)\r\n",
        "#z=np.transpose(x)\r\n",
        "#z=np.linalg.det(x)\r\n",
        "z=np.linalg.inv(x)\r\n",
        "print (z)"
      ],
      "execution_count": null,
      "outputs": [
        {
          "output_type": "stream",
          "text": [
            "[[-2.   1. ]\n",
            " [ 1.5 -0.5]]\n"
          ],
          "name": "stdout"
        }
      ]
    },
    {
      "cell_type": "code",
      "metadata": {
        "colab": {
          "base_uri": "https://localhost:8080/"
        },
        "id": "_TV4WDItHDy9",
        "outputId": "9e1113bb-3d22-4d44-8c47-0a43e74131a3"
      },
      "source": [
        "import math as m\r\n",
        "import numpy as np\r\n",
        "x=[1,2,5,8,9]\r\n",
        "z=max(x)\r\n",
        "print(z)"
      ],
      "execution_count": null,
      "outputs": [
        {
          "output_type": "stream",
          "text": [
            "9\n"
          ],
          "name": "stdout"
        }
      ]
    },
    {
      "cell_type": "code",
      "metadata": {
        "colab": {
          "base_uri": "https://localhost:8080/",
          "height": 298
        },
        "id": "wnH7_pmTHIry",
        "outputId": "f9e059dc-7da9-451e-b177-91d0a44de727"
      },
      "source": [
        "import math as m\r\n",
        "import numpy as np\r\n",
        "import matplotlib.pyplot as plt\r\n",
        "\r\n",
        "#x= np.linspace(0,2,10)\r\n",
        "x= np.linspace(0,2*m.pi,10)\r\n",
        "y=np.sin(x)\r\n",
        "z=np.cos(x)\r\n",
        "plt.plot(y,'r')\r\n",
        "plt.plot(z,'b')\r\n",
        "print(x)"
      ],
      "execution_count": null,
      "outputs": [
        {
          "output_type": "stream",
          "text": [
            "[0.         0.6981317  1.3962634  2.0943951  2.7925268  3.4906585\n",
            " 4.1887902  4.88692191 5.58505361 6.28318531]\n"
          ],
          "name": "stdout"
        },
        {
          "output_type": "display_data",
          "data": {
            "image/png": "[encoded data removed]",
            "text/plain": [
              "<Figure size 432x288 with 1 Axes>"
            ]
          },
          "metadata": {
            "tags": [],
            "needs_background": "light"
          }
        }
      ]
    },
    {
      "cell_type": "code",
      "metadata": {
        "colab": {
          "base_uri": "https://localhost:8080/"
        },
        "id": "u4snp6VYHqoe",
        "outputId": "37d416d4-a413-4f76-dbfb-7dca855645dc"
      },
      "source": [
        "import math as m\r\n",
        "import numpy as np\r\n",
        "import matplotlib.pyplot as plt\r\n",
        "for x in range (15,20,2):\r\n",
        "    print(x)"
      ],
      "execution_count": null,
      "outputs": [
        {
          "output_type": "stream",
          "text": [
            "15\n",
            "17\n",
            "19\n"
          ],
          "name": "stdout"
        }
      ]
    },
    {
      "cell_type": "code",
      "metadata": {
        "colab": {
          "base_uri": "https://localhost:8080/",
          "height": 349
        },
        "id": "5c4jfDa_KlO5",
        "outputId": "2f631cab-cafa-4d0c-8678-264b206234c5"
      },
      "source": [
        "import numpy as np\r\n",
        "import matplotlib.pyplot as plt\r\n",
        "x = np.array([[1, 1], [0, 2]])\r\n",
        "y = np.array([[2, 0], [0, 2]])\r\n",
        "print(x+y)\r\n",
        "z = np.linalg.det(x)\r\n",
        "print(z)\r\n",
        "plt.plot(x)\r\n",
        "plt.plot(y)"
      ],
      "execution_count": null,
      "outputs": [
        {
          "output_type": "stream",
          "text": [
            "[[3 1]\n",
            " [0 4]]\n",
            "2.0\n"
          ],
          "name": "stdout"
        },
        {
          "output_type": "execute_result",
          "data": {
            "text/plain": [
              "[<matplotlib.lines.Line2D at 0x7f83af46f0b8>,\n",
              " <matplotlib.lines.Line2D at 0x7f83af46f198>]"
            ]
          },
          "metadata": {
            "tags": []
          },
          "execution_count": 7
        },
        {
          "output_type": "display_data",
          "data": {
            "image/png": "[encoded data removed]",
            "text/plain": [
              "<Figure size 432x288 with 1 Axes>"
            ]
          },
          "metadata": {
            "tags": [],
            "needs_background": "light"
          }
        }
      ]
    },
    {
      "cell_type": "code",
      "metadata": {
        "colab": {
          "base_uri": "https://localhost:8080/"
        },
        "id": "wcABptD1MMjt",
        "outputId": "579a4ce3-8878-492d-b94e-ec23905f8f51"
      },
      "source": [
        "import math as m\r\n",
        "import numpy as np\r\n",
        "import matplotlib.pyplot as plt\r\n",
        "x= float(input(\"enter the value of x\"))\r\n",
        "y= float(input(\"enter the value of y\"))\r\n",
        "print(x+y)"
      ],
      "execution_count": null,
      "outputs": [
        {
          "output_type": "stream",
          "text": [
            "enter the value of x5\n",
            "enter the value of y5\n",
            "10.0\n"
          ],
          "name": "stdout"
        }
      ]
    }
  ]
}