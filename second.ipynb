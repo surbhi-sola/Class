{
  "nbformat": 4,
  "nbformat_minor": 0,
  "metadata": {
    "colab": {
      "name": "second.ipynb",
      "provenance": [],
      "authorship_tag": "ABX9TyNNfLlBDmFkQ9WZF3pTpzzo",
      "include_colab_link": true
    },
    "kernelspec": {
      "name": "python3",
      "display_name": "Python 3"
    }
  },
  "cells": [
    {
      "cell_type": "markdown",
      "metadata": {
        "id": "view-in-github",
        "colab_type": "text"
      },
      "source": [
        "<a href=\"https://colab.research.google.com/github/surbhi-sola/Class/blob/master/second.ipynb\" target=\"_parent\"><img src=\"https://colab.research.google.com/assets/colab-badge.svg\" alt=\"Open In Colab\"/></a>"
      ]
    },
    {
      "cell_type": "code",
      "metadata": {
        "colab": {
          "base_uri": "https://localhost:8080/"
        },
        "id": "7VnlhRYimUqF",
        "outputId": "07fa14d6-3f84-47a4-adc7-04e5b4b006ec"
      },
      "source": [
        "from numpy.random import seed\r\n",
        "from numpy.random import randint\r\n",
        "from numpy import mean\r\n",
        "seed(1)\r\n",
        "weights= randint(60,90,50)\r\n",
        "print(weights)\r\n",
        "print('the average weight is {} kg'.format(mean(weights)))"
      ],
      "execution_count": 1,
      "outputs": [
        {
          "output_type": "stream",
          "text": [
            "[65 71 72 68 69 71 65 75 60 76 61 72 67 73 88 66 85 78 80 65 78 80 71 88\n",
            " 70 88 89 74 78 64 83 83 69 77 83 60 82 73 69 69 67 89 82 85 61 60 88 77\n",
            " 68 84]\n",
            "the average weight is 74.32 kg\n"
          ],
          "name": "stdout"
        }
      ]
    },
    {
      "cell_type": "code",
      "metadata": {
        "colab": {
          "base_uri": "https://localhost:8080/",
          "height": 282
        },
        "id": "XxkvD_sfpAg-",
        "outputId": "cdfa1fb5-52d2-4111-8a31-17de9a48a1bc"
      },
      "source": [
        "from numpy.random import seed\r\n",
        "from numpy.random import randint\r\n",
        "from numpy import mean\r\n",
        "import matplotlib.pyplot as plt\r\n",
        "seed(1)\r\n",
        "\r\n",
        "means = [mean(randint(60,90,50)) for _x in range(1000)]\r\n",
        "\r\n",
        "plt.hist(means)\r\n",
        "\r\n",
        "plt.show()\r\n",
        "\r\n",
        "\r\n",
        "print('the average weight is {} kg'.format(mean(weights)))"
      ],
      "execution_count": 2,
      "outputs": [
        {
          "output_type": "display_data",
          "data": {
            "image/png": "[encoded data removed]",
            "text/plain": [
              "<Figure size 432x288 with 1 Axes>"
            ]
          },
          "metadata": {
            "tags": [],
            "needs_background": "light"
          }
        },
        {
          "output_type": "stream",
          "text": [
            "the average weight is 74.32 kg\n"
          ],
          "name": "stdout"
        }
      ]
    }
  ]
}